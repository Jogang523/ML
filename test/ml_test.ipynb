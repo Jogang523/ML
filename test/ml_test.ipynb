{
 "cells": [
  {
   "cell_type": "code",
   "execution_count": 2,
   "id": "4c61455c-5581-41b0-b9d3-7fadc6644a77",
   "metadata": {},
   "outputs": [],
   "source": [
    "import pandas as pd\n",
    "import numpy as np\n",
    "import matplotlib.pyplot as plt\n",
    "import seaborn as sns"
   ]
  },
  {
   "cell_type": "markdown",
   "id": "1e6f4770-f1a4-490e-b8e5-7b965ca66566",
   "metadata": {},
   "source": [
    "### 0. 머신러닝 모델을 학습시키는 과정(순서)을 자세하게 기술하고 설명하시오\n",
    "\n",
    "1. 데이터 불러와서 전처리 - 인코딩, nan값처리 등\n",
    "2. eda\n",
    "3. x, y 분리하기\n",
    "4. 학습용, 검증용 데이터 분리하기\n",
    "5. 학습 - linear, logistic\n",
    "6. 검증 - accuracy, mse, mae 등"
   ]
  },
  {
   "cell_type": "markdown",
   "id": "8e318b13-f427-48fa-8481-98edb5b1ae87",
   "metadata": {},
   "source": [
    "### 1. supervised learning과 unsupervised learning을 비교하시오\n",
    "\n",
    "1. supervised learning은 지도학습으로 y가 연속형 일 때 사용한다.\n",
    "2. unsupervised learning은 비지도 학습으로 y가 정해지지 않았을 때 사용한다."
   ]
  },
  {
   "cell_type": "markdown",
   "id": "a467f19e-5f8f-436d-9e08-3ecccfb5d70c",
   "metadata": {},
   "source": [
    "### 2. supervised learning의 종류와 각각의 의미에 대해 기술하시오\r\n",
    "- supervised learning 에는 분류와 회귀가 있다. \n",
    "- 분류 classification은 0 또는 1 과 같이 종속변수가 범주형이다.\n",
    "- 회귀 regression은 종속변수가 연속형인 값이다.\n"
   ]
  },
  {
   "cell_type": "markdown",
   "id": "f896165a-cdaf-47ea-b746-f615d2c803e4",
   "metadata": {},
   "source": [
    "### 3. x_data (input data)와 y_data ( target data)에 대해서 설명하시오\r\n",
    "- X_data는 학습 시 x축에 해당하는 독립변수를 말한다.\n",
    "- y_data는 학습 시 y축에 해당하는 종속변수를 말하며, 머신러닝으로 알고 싶은 결과이다.\n"
   ]
  },
  {
   "cell_type": "markdown",
   "id": "80dda559-d209-4f24-9a3b-ed213a6e5a6f",
   "metadata": {},
   "source": [
    "### 4. x train, x_test, y_train, y_test에 대해 각각 설명하시오.\n",
    "\n",
    "- X_train : 전체 데이터 중 학습을 위한 독립변수이다.\n",
    "- X_test :  전체 데이터 중 학습이 제대로 되었는지를 검증하기 위한 검증용 데이터이다.\n",
    "- y_train : 전체 데이터 중 학습을 위한 종속변수이다.\n",
    "- y_test : 학습 후에 검증이 제대로 되었는지 확인하기 위한 검증용 종속변수이다."
   ]
  },
  {
   "cell_type": "markdown",
   "id": "ba721494-1e1e-4c6e-9712-846bbaf2275a",
   "metadata": {},
   "source": [
    "### 5. train data와 test data를 나누는 이유에 대해 기술하시오\n",
    "\n",
    "- 모든 데이터를 학습용에 사용하면 머신러닝 모델이 제대로 학습했는지 알 수 없다.\n",
    "- 따라서 test용 데이터를 미리 분할해서 모델에 대입 후 결과가 어느정도 맞는지 확인한다."
   ]
  },
  {
   "cell_type": "markdown",
   "id": "ea90a70c-58a3-4cfb-be9b-8be9cce6433d",
   "metadata": {},
   "source": [
    "### 6. train data와 test data를 나누는 sklearn에서 제공하는 함수를 이용해서 code를 작성하시오(단, test data 비율은 25%)\r\n",
    "from sklearn.model_selection import train_test_split\\\n",
    "X_train, X_test, y_train, y_test = train_test_split(X, y, test_size = 0.25, random_state = 2024)\n"
   ]
  },
  {
   "cell_type": "markdown",
   "id": "a3ae6901-1627-4d3c-ad06-bbc291fb66fb",
   "metadata": {},
   "source": [
    "### 7. 위의 함수가 데이터를 나누는 원리에 대해 설명하시오\n",
    "\n",
    "- X와 y의 범위 내에서 test는 test_size만큼의 비율로 나눈다\n",
    "- 이때 random_state = 정수를 해주면 랜덤이 아닌 매번 고정으로 나눠진다."
   ]
  },
  {
   "cell_type": "markdown",
   "id": "2bafb4b5-cf16-47ed-b0c5-bae8467e1ffa",
   "metadata": {},
   "source": [
    "### 8. sklearn 패키지를 통해 선형회귀분석 알리즘을 가져와서 알고리즘을 학습시키는 python code를 작성하시오\n",
    "\n",
    "X = 타겟변수 제외 나머지\n",
    "y = 타겟변수\n",
    "\n",
    "from sklearn.model_selection import train_test_split\\\n",
    "X_train, X_test, y_train, y_test = train_test_split(X, y, test_size = 0.25, random_state = 2024)\n",
    "\n",
    "from sklearn.linear_model import LinearRegression\\\n",
    "le = LinearRegression()\\\n",
    "le.fit(X_train, y_train)"
   ]
  },
  {
   "cell_type": "markdown",
   "id": "d4af48d5-e75e-4b0b-8928-9bb2ebe850b5",
   "metadata": {},
   "source": [
    "### 9. 위에서 학습된 algorithm model을 통해서 y_data를 예측하는 code를 작성하시오\n",
    "\n",
    "\n",
    "pred = le.predict(X_test)"
   ]
  },
  {
   "cell_type": "markdown",
   "id": "d264a8bb-9c5d-4af0-bc26-f101092329d8",
   "metadata": {},
   "source": [
    "### 10. 회귀분석 모델을 평가하는 4가지 지표에 대해 기술하고 설명하시오\n",
    "\n",
    "1. mse : mean_squared_error, (실제y값 - 회귀y값)**2/n \n",
    "2. mae : mean_absolute_error, |실제y값 - 회귀y값|**2/n\n",
    "3. rmse: np.sqrt(mse), mse에 루트 씌운거\n",
    "4. R2-score: "
   ]
  },
  {
   "cell_type": "markdown",
   "id": "eaf52d4a-a77a-4ff1-8a41-0c32491caac8",
   "metadata": {},
   "source": [
    "### 11. 위에서 모델 예측값을 통해 위의 회귀모델 평가 4가지 지표로 회귀모델을 평가하는 python code를 작성하시오\n",
    "\n",
    "from sklearn.metrics import mean_squared_error, mean_absolute_error, r2_score\n",
    "\n",
    "mse = mean_squared_error(pred, y_test)\\\n",
    "mae = mean_absolute_error(pred, y_test)\\\n",
    "r2 = r2_score(pred, y_test)\\\n",
    "rmse = np.sqrt(mse)"
   ]
  },
  {
   "cell_type": "code",
   "execution_count": null,
   "id": "3ecd083c-ea07-4f60-bbc1-13382c9e67b6",
   "metadata": {},
   "outputs": [],
   "source": []
  },
  {
   "cell_type": "code",
   "execution_count": null,
   "id": "b67e26f9-90e8-4369-8e47-55d0eef04674",
   "metadata": {},
   "outputs": [],
   "source": []
  },
  {
   "cell_type": "code",
   "execution_count": null,
   "id": "9551bf29-c0a9-49cc-83e4-ec9f2df0d9e2",
   "metadata": {},
   "outputs": [],
   "source": []
  },
  {
   "cell_type": "markdown",
   "id": "979bca75-9bcc-4a40-a6a6-c1f1f7061120",
   "metadata": {},
   "source": [
    "### 1. sigmoid(logit) 함수에 대해 설명하시오.\n",
    "\r",
    "- sigmoid 함수는 0 또는 1의 이진 분류함수를 연속형으로 바꿔주는 함수이다.\n"
   ]
  },
  {
   "cell_type": "markdown",
   "id": "673a727b-2789-40cb-81e4-3aa16586534b",
   "metadata": {},
   "source": [
    "### 2. sigmoid 함수에서 나오는 확률값을 리턴하는 함수는 무엇인가?\n",
    "\n",
    "- get_dummies?"
   ]
  },
  {
   "cell_type": "markdown",
   "id": "7dac1c97-5ee6-4ee1-a518-81d198f2e9d4",
   "metadata": {},
   "source": [
    "### 3. LogisticRegression 알고리즘에 대해 설명하고, 기본 threshold값이 얼마인지 기재하시오.\n",
    "\n",
    "- logistic regression 알고리즘은 종속변수가 불연속 값일 때 사용하는 회귀분석 모델이다.\n",
    "- linear 모델에서 변형한 모델이라 라이브러리도 from sklearn.linear_model import LogisticRegression이다.\n",
    "- 기본 threshold값은 0.5이다."
   ]
  },
  {
   "cell_type": "code",
   "execution_count": null,
   "id": "b387f041-5e3c-48a6-b2b4-17a3485af8ce",
   "metadata": {},
   "outputs": [],
   "source": []
  },
  {
   "cell_type": "markdown",
   "id": "01f01ab7-8f95-4d6f-aa33-5474cf33dd10",
   "metadata": {},
   "source": [
    "### 4. confusion matrix를 그림으로 나타내고 구조에 대해 설명하시오.\r\n",
    "공책 참고\n"
   ]
  },
  {
   "cell_type": "markdown",
   "id": "3e9ec329-1c1f-4485-8f15-1ec29a15b206",
   "metadata": {},
   "source": [
    "### 5. accuracy에 대해서 설명하고 계산식을 기술하시오\n",
    "\n",
    "- accuracy는 정확도이고, 전체 중 맞게 예측한 비율이다.\n",
    "- acc = TP + TN / TP+FN+TN+FN"
   ]
  },
  {
   "cell_type": "markdown",
   "id": "3d6d3f79-5818-459a-8ab7-65834d3864f8",
   "metadata": {},
   "source": [
    "### 6. precision에 대해서 설명하고 계산식을 기술하시오\n",
    "\n",
    "- precision은 정밀도이고, TRUE라고 예측한 것 중 진짜 TRUE인 비율이다.\n",
    "- pre = TP / TP + FP"
   ]
  },
  {
   "cell_type": "markdown",
   "id": "a7b9f8b7-b4e6-4a80-9a15-d4257c7271d9",
   "metadata": {},
   "source": [
    "### 7. recall에 대해서 설명하고 계산식을 기술하시오\n",
    "\n",
    "- recall은 민감도이고, 실제 TRUE인 것 중 맞게 예측한 비율이다.\n",
    "- re = TP / TP+FN"
   ]
  },
  {
   "cell_type": "markdown",
   "id": "9f5a0018-c4d5-4d21-ab52-c37934a96e71",
   "metadata": {},
   "source": [
    "### 8. f1_score에 대해서 설명하고 계산식을 기술하시오\n",
    "\n",
    "- f1_score는 PRE와 RE의 조화 평균이다.\n",
    "- F1 = 2 * (PRE*RE)/(PRE+RE)"
   ]
  },
  {
   "cell_type": "markdown",
   "id": "7fe72fb7-e237-46d2-b6a4-b6a3c4f9ecca",
   "metadata": {},
   "source": [
    "### 9. roc_auc_score에 대해서 설명하고 계산식을 기술하시오\n",
    "\n",
    "- AUC는 ROC curve 그래프의 하단 넓이를 말한다."
   ]
  },
  {
   "cell_type": "code",
   "execution_count": null,
   "id": "4960e8ab-03fb-4026-be6c-a13dd9253c72",
   "metadata": {},
   "outputs": [],
   "source": []
  }
 ],
 "metadata": {
  "kernelspec": {
   "display_name": "Python 3 (ipykernel)",
   "language": "python",
   "name": "python3"
  },
  "language_info": {
   "codemirror_mode": {
    "name": "ipython",
    "version": 3
   },
   "file_extension": ".py",
   "mimetype": "text/x-python",
   "name": "python",
   "nbconvert_exporter": "python",
   "pygments_lexer": "ipython3",
   "version": "3.11.7"
  }
 },
 "nbformat": 4,
 "nbformat_minor": 5
}
