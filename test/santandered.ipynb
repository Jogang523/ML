{
 "cells": [
  {
   "cell_type": "code",
   "execution_count": 1,
   "id": "687cff9e-bc5a-4eb3-a077-6ace8a7e00f5",
   "metadata": {},
   "outputs": [],
   "source": [
    "import pandas as pd\n",
    "import numpy as np\n",
    "import matplotlib.pyplot as plt\n",
    "import seaborn as sns"
   ]
  },
  {
   "cell_type": "code",
   "execution_count": 2,
   "id": "05f980a3-e4f4-4ec8-9052-63d2ab2aec13",
   "metadata": {},
   "outputs": [],
   "source": [
    "# santandered 은행의 고객정보 데이터..\n",
    "# 향후 특정 금융상품에 대해서 고객이 거래를 할 고객인지, 거래를 하지 않을 고객인지를 예측하는 문제..\n",
    "# 칼럼은 비인식 처리가 되어있음\n",
    "# 전처리 > EDA > outlier제거 > 칼럼간 scale조정 > log scale 변환 순으로 처리함.."
   ]
  },
  {
   "cell_type": "code",
   "execution_count": 30,
   "id": "96d76620-96c7-47bc-a2b5-2a07dc6d1334",
   "metadata": {},
   "outputs": [
    {
     "data": {
      "text/html": [
       "<div>\n",
       "<style scoped>\n",
       "    .dataframe tbody tr th:only-of-type {\n",
       "        vertical-align: middle;\n",
       "    }\n",
       "\n",
       "    .dataframe tbody tr th {\n",
       "        vertical-align: top;\n",
       "    }\n",
       "\n",
       "    .dataframe thead th {\n",
       "        text-align: right;\n",
       "    }\n",
       "</style>\n",
       "<table border=\"1\" class=\"dataframe\">\n",
       "  <thead>\n",
       "    <tr style=\"text-align: right;\">\n",
       "      <th></th>\n",
       "      <th>ID</th>\n",
       "      <th>var3</th>\n",
       "      <th>var15</th>\n",
       "      <th>imp_ent_var16_ult1</th>\n",
       "      <th>imp_op_var39_comer_ult1</th>\n",
       "      <th>imp_op_var39_comer_ult3</th>\n",
       "      <th>imp_op_var40_comer_ult1</th>\n",
       "      <th>imp_op_var40_comer_ult3</th>\n",
       "      <th>imp_op_var40_efect_ult1</th>\n",
       "      <th>imp_op_var40_efect_ult3</th>\n",
       "      <th>...</th>\n",
       "      <th>saldo_medio_var33_hace2</th>\n",
       "      <th>saldo_medio_var33_hace3</th>\n",
       "      <th>saldo_medio_var33_ult1</th>\n",
       "      <th>saldo_medio_var33_ult3</th>\n",
       "      <th>saldo_medio_var44_hace2</th>\n",
       "      <th>saldo_medio_var44_hace3</th>\n",
       "      <th>saldo_medio_var44_ult1</th>\n",
       "      <th>saldo_medio_var44_ult3</th>\n",
       "      <th>var38</th>\n",
       "      <th>TARGET</th>\n",
       "    </tr>\n",
       "  </thead>\n",
       "  <tbody>\n",
       "    <tr>\n",
       "      <th>0</th>\n",
       "      <td>1</td>\n",
       "      <td>2</td>\n",
       "      <td>23</td>\n",
       "      <td>0.0</td>\n",
       "      <td>0.0</td>\n",
       "      <td>0.0</td>\n",
       "      <td>0.0</td>\n",
       "      <td>0.0</td>\n",
       "      <td>0.0</td>\n",
       "      <td>0.0</td>\n",
       "      <td>...</td>\n",
       "      <td>0.0</td>\n",
       "      <td>0.0</td>\n",
       "      <td>0.0</td>\n",
       "      <td>0.0</td>\n",
       "      <td>0.0</td>\n",
       "      <td>0.0</td>\n",
       "      <td>0.0</td>\n",
       "      <td>0.0</td>\n",
       "      <td>39205.170000</td>\n",
       "      <td>0</td>\n",
       "    </tr>\n",
       "    <tr>\n",
       "      <th>1</th>\n",
       "      <td>3</td>\n",
       "      <td>2</td>\n",
       "      <td>34</td>\n",
       "      <td>0.0</td>\n",
       "      <td>0.0</td>\n",
       "      <td>0.0</td>\n",
       "      <td>0.0</td>\n",
       "      <td>0.0</td>\n",
       "      <td>0.0</td>\n",
       "      <td>0.0</td>\n",
       "      <td>...</td>\n",
       "      <td>0.0</td>\n",
       "      <td>0.0</td>\n",
       "      <td>0.0</td>\n",
       "      <td>0.0</td>\n",
       "      <td>0.0</td>\n",
       "      <td>0.0</td>\n",
       "      <td>0.0</td>\n",
       "      <td>0.0</td>\n",
       "      <td>49278.030000</td>\n",
       "      <td>0</td>\n",
       "    </tr>\n",
       "    <tr>\n",
       "      <th>2</th>\n",
       "      <td>4</td>\n",
       "      <td>2</td>\n",
       "      <td>23</td>\n",
       "      <td>0.0</td>\n",
       "      <td>0.0</td>\n",
       "      <td>0.0</td>\n",
       "      <td>0.0</td>\n",
       "      <td>0.0</td>\n",
       "      <td>0.0</td>\n",
       "      <td>0.0</td>\n",
       "      <td>...</td>\n",
       "      <td>0.0</td>\n",
       "      <td>0.0</td>\n",
       "      <td>0.0</td>\n",
       "      <td>0.0</td>\n",
       "      <td>0.0</td>\n",
       "      <td>0.0</td>\n",
       "      <td>0.0</td>\n",
       "      <td>0.0</td>\n",
       "      <td>67333.770000</td>\n",
       "      <td>0</td>\n",
       "    </tr>\n",
       "    <tr>\n",
       "      <th>3</th>\n",
       "      <td>8</td>\n",
       "      <td>2</td>\n",
       "      <td>37</td>\n",
       "      <td>0.0</td>\n",
       "      <td>195.0</td>\n",
       "      <td>195.0</td>\n",
       "      <td>0.0</td>\n",
       "      <td>0.0</td>\n",
       "      <td>0.0</td>\n",
       "      <td>0.0</td>\n",
       "      <td>...</td>\n",
       "      <td>0.0</td>\n",
       "      <td>0.0</td>\n",
       "      <td>0.0</td>\n",
       "      <td>0.0</td>\n",
       "      <td>0.0</td>\n",
       "      <td>0.0</td>\n",
       "      <td>0.0</td>\n",
       "      <td>0.0</td>\n",
       "      <td>64007.970000</td>\n",
       "      <td>0</td>\n",
       "    </tr>\n",
       "    <tr>\n",
       "      <th>4</th>\n",
       "      <td>10</td>\n",
       "      <td>2</td>\n",
       "      <td>39</td>\n",
       "      <td>0.0</td>\n",
       "      <td>0.0</td>\n",
       "      <td>0.0</td>\n",
       "      <td>0.0</td>\n",
       "      <td>0.0</td>\n",
       "      <td>0.0</td>\n",
       "      <td>0.0</td>\n",
       "      <td>...</td>\n",
       "      <td>0.0</td>\n",
       "      <td>0.0</td>\n",
       "      <td>0.0</td>\n",
       "      <td>0.0</td>\n",
       "      <td>0.0</td>\n",
       "      <td>0.0</td>\n",
       "      <td>0.0</td>\n",
       "      <td>0.0</td>\n",
       "      <td>117310.979016</td>\n",
       "      <td>0</td>\n",
       "    </tr>\n",
       "  </tbody>\n",
       "</table>\n",
       "<p>5 rows × 371 columns</p>\n",
       "</div>"
      ],
      "text/plain": [
       "   ID  var3  var15  imp_ent_var16_ult1  imp_op_var39_comer_ult1  \\\n",
       "0   1     2     23                 0.0                      0.0   \n",
       "1   3     2     34                 0.0                      0.0   \n",
       "2   4     2     23                 0.0                      0.0   \n",
       "3   8     2     37                 0.0                    195.0   \n",
       "4  10     2     39                 0.0                      0.0   \n",
       "\n",
       "   imp_op_var39_comer_ult3  imp_op_var40_comer_ult1  imp_op_var40_comer_ult3  \\\n",
       "0                      0.0                      0.0                      0.0   \n",
       "1                      0.0                      0.0                      0.0   \n",
       "2                      0.0                      0.0                      0.0   \n",
       "3                    195.0                      0.0                      0.0   \n",
       "4                      0.0                      0.0                      0.0   \n",
       "\n",
       "   imp_op_var40_efect_ult1  imp_op_var40_efect_ult3  ...  \\\n",
       "0                      0.0                      0.0  ...   \n",
       "1                      0.0                      0.0  ...   \n",
       "2                      0.0                      0.0  ...   \n",
       "3                      0.0                      0.0  ...   \n",
       "4                      0.0                      0.0  ...   \n",
       "\n",
       "   saldo_medio_var33_hace2  saldo_medio_var33_hace3  saldo_medio_var33_ult1  \\\n",
       "0                      0.0                      0.0                     0.0   \n",
       "1                      0.0                      0.0                     0.0   \n",
       "2                      0.0                      0.0                     0.0   \n",
       "3                      0.0                      0.0                     0.0   \n",
       "4                      0.0                      0.0                     0.0   \n",
       "\n",
       "   saldo_medio_var33_ult3  saldo_medio_var44_hace2  saldo_medio_var44_hace3  \\\n",
       "0                     0.0                      0.0                      0.0   \n",
       "1                     0.0                      0.0                      0.0   \n",
       "2                     0.0                      0.0                      0.0   \n",
       "3                     0.0                      0.0                      0.0   \n",
       "4                     0.0                      0.0                      0.0   \n",
       "\n",
       "   saldo_medio_var44_ult1  saldo_medio_var44_ult3          var38  TARGET  \n",
       "0                     0.0                     0.0   39205.170000       0  \n",
       "1                     0.0                     0.0   49278.030000       0  \n",
       "2                     0.0                     0.0   67333.770000       0  \n",
       "3                     0.0                     0.0   64007.970000       0  \n",
       "4                     0.0                     0.0  117310.979016       0  \n",
       "\n",
       "[5 rows x 371 columns]"
      ]
     },
     "execution_count": 30,
     "metadata": {},
     "output_type": "execute_result"
    }
   ],
   "source": [
    "df = pd.read_csv('C:\\\\Users\\\\M\\\\Machine_L\\\\data\\\\train_santander.csv')\n",
    "df.head()"
   ]
  },
  {
   "cell_type": "code",
   "execution_count": 31,
   "id": "4771010e-e56f-479a-8be6-25026ca94f19",
   "metadata": {},
   "outputs": [
    {
     "data": {
      "text/plain": [
       "TARGET\n",
       "0    73012\n",
       "1     3008\n",
       "Name: count, dtype: int64"
      ]
     },
     "execution_count": 31,
     "metadata": {},
     "output_type": "execute_result"
    }
   ],
   "source": [
    "df.TARGET.value_counts()"
   ]
  },
  {
   "cell_type": "code",
   "execution_count": 32,
   "id": "63f12d4a-0e5e-4ff7-b07d-67af1429b7e2",
   "metadata": {},
   "outputs": [
    {
     "data": {
      "text/plain": [
       "0"
      ]
     },
     "execution_count": 32,
     "metadata": {},
     "output_type": "execute_result"
    }
   ],
   "source": [
    "#1. 전처리\n",
    "df.isnull().sum().sum() #null값 없음"
   ]
  },
  {
   "cell_type": "code",
   "execution_count": 33,
   "id": "177c83e2-423b-48a7-8a05-f408121e22e5",
   "metadata": {
    "scrolled": true
   },
   "outputs": [
    {
     "data": {
      "text/html": [
       "<div>\n",
       "<style scoped>\n",
       "    .dataframe tbody tr th:only-of-type {\n",
       "        vertical-align: middle;\n",
       "    }\n",
       "\n",
       "    .dataframe tbody tr th {\n",
       "        vertical-align: top;\n",
       "    }\n",
       "\n",
       "    .dataframe thead th {\n",
       "        text-align: right;\n",
       "    }\n",
       "</style>\n",
       "<table border=\"1\" class=\"dataframe\">\n",
       "  <thead>\n",
       "    <tr style=\"text-align: right;\">\n",
       "      <th></th>\n",
       "    </tr>\n",
       "  </thead>\n",
       "  <tbody>\n",
       "    <tr>\n",
       "      <th>0</th>\n",
       "    </tr>\n",
       "    <tr>\n",
       "      <th>1</th>\n",
       "    </tr>\n",
       "    <tr>\n",
       "      <th>2</th>\n",
       "    </tr>\n",
       "    <tr>\n",
       "      <th>3</th>\n",
       "    </tr>\n",
       "    <tr>\n",
       "      <th>4</th>\n",
       "    </tr>\n",
       "    <tr>\n",
       "      <th>...</th>\n",
       "    </tr>\n",
       "    <tr>\n",
       "      <th>76015</th>\n",
       "    </tr>\n",
       "    <tr>\n",
       "      <th>76016</th>\n",
       "    </tr>\n",
       "    <tr>\n",
       "      <th>76017</th>\n",
       "    </tr>\n",
       "    <tr>\n",
       "      <th>76018</th>\n",
       "    </tr>\n",
       "    <tr>\n",
       "      <th>76019</th>\n",
       "    </tr>\n",
       "  </tbody>\n",
       "</table>\n",
       "<p>76020 rows × 0 columns</p>\n",
       "</div>"
      ],
      "text/plain": [
       "Empty DataFrame\n",
       "Columns: []\n",
       "Index: [0, 1, 2, 3, 4, 5, 6, 7, 8, 9, 10, 11, 12, 13, 14, 15, 16, 17, 18, 19, 20, 21, 22, 23, 24, 25, 26, 27, 28, 29, 30, 31, 32, 33, 34, 35, 36, 37, 38, 39, 40, 41, 42, 43, 44, 45, 46, 47, 48, 49, 50, 51, 52, 53, 54, 55, 56, 57, 58, 59, 60, 61, 62, 63, 64, 65, 66, 67, 68, 69, 70, 71, 72, 73, 74, 75, 76, 77, 78, 79, 80, 81, 82, 83, 84, 85, 86, 87, 88, 89, 90, 91, 92, 93, 94, 95, 96, 97, 98, 99, ...]\n",
       "\n",
       "[76020 rows x 0 columns]"
      ]
     },
     "execution_count": 33,
     "metadata": {},
     "output_type": "execute_result"
    }
   ],
   "source": [
    "df.select_dtypes(include = ['object']) #object 타입 컬럼 없음"
   ]
  },
  {
   "cell_type": "code",
   "execution_count": 57,
   "id": "e124faf5-3d9e-4f02-92a4-89f098d034ba",
   "metadata": {},
   "outputs": [],
   "source": [
    "#2. X, y 나누기\n",
    "X = df.drop(columns = ['TARGET', 'ID'])\n",
    "y = df.TARGET"
   ]
  },
  {
   "cell_type": "code",
   "execution_count": 58,
   "id": "e8abb9b7-e9fa-4e77-9406-4a65c182049e",
   "metadata": {},
   "outputs": [],
   "source": [
    "#3. train, test split\n",
    "from sklearn.model_selection import train_test_split\n",
    "X_train, X_test, y_train, y_test = train_test_split(X, y, test_size = 0.2, random_state = 2024)"
   ]
  },
  {
   "cell_type": "code",
   "execution_count": 59,
   "id": "63766f8f-3732-4d4c-a95f-0bcc560c6c54",
   "metadata": {},
   "outputs": [
    {
     "name": "stderr",
     "output_type": "stream",
     "text": [
      "C:\\anaconda3\\Lib\\site-packages\\sklearn\\linear_model\\_logistic.py:458: ConvergenceWarning: lbfgs failed to converge (status=2):\n",
      "ABNORMAL_TERMINATION_IN_LNSRCH.\n",
      "\n",
      "Increase the number of iterations (max_iter) or scale the data as shown in:\n",
      "    https://scikit-learn.org/stable/modules/preprocessing.html\n",
      "Please also refer to the documentation for alternative solver options:\n",
      "    https://scikit-learn.org/stable/modules/linear_model.html#logistic-regression\n",
      "  n_iter_i = _check_optimize_result(\n"
     ]
    },
    {
     "data": {
      "text/html": [
       "<style>#sk-container-id-3 {color: black;background-color: white;}#sk-container-id-3 pre{padding: 0;}#sk-container-id-3 div.sk-toggleable {background-color: white;}#sk-container-id-3 label.sk-toggleable__label {cursor: pointer;display: block;width: 100%;margin-bottom: 0;padding: 0.3em;box-sizing: border-box;text-align: center;}#sk-container-id-3 label.sk-toggleable__label-arrow:before {content: \"▸\";float: left;margin-right: 0.25em;color: #696969;}#sk-container-id-3 label.sk-toggleable__label-arrow:hover:before {color: black;}#sk-container-id-3 div.sk-estimator:hover label.sk-toggleable__label-arrow:before {color: black;}#sk-container-id-3 div.sk-toggleable__content {max-height: 0;max-width: 0;overflow: hidden;text-align: left;background-color: #f0f8ff;}#sk-container-id-3 div.sk-toggleable__content pre {margin: 0.2em;color: black;border-radius: 0.25em;background-color: #f0f8ff;}#sk-container-id-3 input.sk-toggleable__control:checked~div.sk-toggleable__content {max-height: 200px;max-width: 100%;overflow: auto;}#sk-container-id-3 input.sk-toggleable__control:checked~label.sk-toggleable__label-arrow:before {content: \"▾\";}#sk-container-id-3 div.sk-estimator input.sk-toggleable__control:checked~label.sk-toggleable__label {background-color: #d4ebff;}#sk-container-id-3 div.sk-label input.sk-toggleable__control:checked~label.sk-toggleable__label {background-color: #d4ebff;}#sk-container-id-3 input.sk-hidden--visually {border: 0;clip: rect(1px 1px 1px 1px);clip: rect(1px, 1px, 1px, 1px);height: 1px;margin: -1px;overflow: hidden;padding: 0;position: absolute;width: 1px;}#sk-container-id-3 div.sk-estimator {font-family: monospace;background-color: #f0f8ff;border: 1px dotted black;border-radius: 0.25em;box-sizing: border-box;margin-bottom: 0.5em;}#sk-container-id-3 div.sk-estimator:hover {background-color: #d4ebff;}#sk-container-id-3 div.sk-parallel-item::after {content: \"\";width: 100%;border-bottom: 1px solid gray;flex-grow: 1;}#sk-container-id-3 div.sk-label:hover label.sk-toggleable__label {background-color: #d4ebff;}#sk-container-id-3 div.sk-serial::before {content: \"\";position: absolute;border-left: 1px solid gray;box-sizing: border-box;top: 0;bottom: 0;left: 50%;z-index: 0;}#sk-container-id-3 div.sk-serial {display: flex;flex-direction: column;align-items: center;background-color: white;padding-right: 0.2em;padding-left: 0.2em;position: relative;}#sk-container-id-3 div.sk-item {position: relative;z-index: 1;}#sk-container-id-3 div.sk-parallel {display: flex;align-items: stretch;justify-content: center;background-color: white;position: relative;}#sk-container-id-3 div.sk-item::before, #sk-container-id-3 div.sk-parallel-item::before {content: \"\";position: absolute;border-left: 1px solid gray;box-sizing: border-box;top: 0;bottom: 0;left: 50%;z-index: -1;}#sk-container-id-3 div.sk-parallel-item {display: flex;flex-direction: column;z-index: 1;position: relative;background-color: white;}#sk-container-id-3 div.sk-parallel-item:first-child::after {align-self: flex-end;width: 50%;}#sk-container-id-3 div.sk-parallel-item:last-child::after {align-self: flex-start;width: 50%;}#sk-container-id-3 div.sk-parallel-item:only-child::after {width: 0;}#sk-container-id-3 div.sk-dashed-wrapped {border: 1px dashed gray;margin: 0 0.4em 0.5em 0.4em;box-sizing: border-box;padding-bottom: 0.4em;background-color: white;}#sk-container-id-3 div.sk-label label {font-family: monospace;font-weight: bold;display: inline-block;line-height: 1.2em;}#sk-container-id-3 div.sk-label-container {text-align: center;}#sk-container-id-3 div.sk-container {/* jupyter's `normalize.less` sets `[hidden] { display: none; }` but bootstrap.min.css set `[hidden] { display: none !important; }` so we also need the `!important` here to be able to override the default hidden behavior on the sphinx rendered scikit-learn.org. See: https://github.com/scikit-learn/scikit-learn/issues/21755 */display: inline-block !important;position: relative;}#sk-container-id-3 div.sk-text-repr-fallback {display: none;}</style><div id=\"sk-container-id-3\" class=\"sk-top-container\"><div class=\"sk-text-repr-fallback\"><pre>LogisticRegression()</pre><b>In a Jupyter environment, please rerun this cell to show the HTML representation or trust the notebook. <br />On GitHub, the HTML representation is unable to render, please try loading this page with nbviewer.org.</b></div><div class=\"sk-container\" hidden><div class=\"sk-item\"><div class=\"sk-estimator sk-toggleable\"><input class=\"sk-toggleable__control sk-hidden--visually\" id=\"sk-estimator-id-3\" type=\"checkbox\" checked><label for=\"sk-estimator-id-3\" class=\"sk-toggleable__label sk-toggleable__label-arrow\">LogisticRegression</label><div class=\"sk-toggleable__content\"><pre>LogisticRegression()</pre></div></div></div></div></div>"
      ],
      "text/plain": [
       "LogisticRegression()"
      ]
     },
     "execution_count": 59,
     "metadata": {},
     "output_type": "execute_result"
    }
   ],
   "source": [
    "#4. 모델 학습\n",
    "from sklearn.linear_model import LogisticRegression\n",
    "lr = LogisticRegression()\n",
    "lr.fit(X_train, y_train)"
   ]
  },
  {
   "cell_type": "code",
   "execution_count": 60,
   "id": "2be27906-6edd-4f7f-a17a-fc0eb0fee4b1",
   "metadata": {},
   "outputs": [],
   "source": [
    "#5. 예측\n",
    "pred = lr.predict(X_test)"
   ]
  },
  {
   "cell_type": "code",
   "execution_count": 61,
   "id": "bb1aab14-e091-425c-8ded-941f74f9a938",
   "metadata": {},
   "outputs": [
    {
     "name": "stdout",
     "output_type": "stream",
     "text": [
      "              precision    recall  f1-score   support\n",
      "\n",
      "           0       0.96      1.00      0.98     14628\n",
      "           1       0.00      0.00      0.00       576\n",
      "\n",
      "    accuracy                           0.96     15204\n",
      "   macro avg       0.48      0.50      0.49     15204\n",
      "weighted avg       0.93      0.96      0.94     15204\n",
      "\n"
     ]
    },
    {
     "name": "stderr",
     "output_type": "stream",
     "text": [
      "C:\\anaconda3\\Lib\\site-packages\\sklearn\\metrics\\_classification.py:1344: UndefinedMetricWarning: Precision and F-score are ill-defined and being set to 0.0 in labels with no predicted samples. Use `zero_division` parameter to control this behavior.\n",
      "  _warn_prf(average, modifier, msg_start, len(result))\n",
      "C:\\anaconda3\\Lib\\site-packages\\sklearn\\metrics\\_classification.py:1344: UndefinedMetricWarning: Precision and F-score are ill-defined and being set to 0.0 in labels with no predicted samples. Use `zero_division` parameter to control this behavior.\n",
      "  _warn_prf(average, modifier, msg_start, len(result))\n",
      "C:\\anaconda3\\Lib\\site-packages\\sklearn\\metrics\\_classification.py:1344: UndefinedMetricWarning: Precision and F-score are ill-defined and being set to 0.0 in labels with no predicted samples. Use `zero_division` parameter to control this behavior.\n",
      "  _warn_prf(average, modifier, msg_start, len(result))\n"
     ]
    }
   ],
   "source": [
    "#6. 모델평가\n",
    "from sklearn.metrics import classification_report\n",
    "print(classification_report(y_test, pred))"
   ]
  },
  {
   "cell_type": "code",
   "execution_count": 62,
   "id": "8f39fbee-cedb-4e2c-9e9b-a2b13329e0a2",
   "metadata": {},
   "outputs": [],
   "source": [
    "# SVC"
   ]
  },
  {
   "cell_type": "code",
   "execution_count": 63,
   "id": "eeaffed7-b369-433a-8a75-2badff72abdf",
   "metadata": {},
   "outputs": [
    {
     "name": "stdout",
     "output_type": "stream",
     "text": [
      "              precision    recall  f1-score   support\n",
      "\n",
      "           0       0.96      1.00      0.98     14628\n",
      "           1       0.00      0.00      0.00       576\n",
      "\n",
      "    accuracy                           0.96     15204\n",
      "   macro avg       0.48      0.50      0.49     15204\n",
      "weighted avg       0.93      0.96      0.94     15204\n",
      "\n"
     ]
    },
    {
     "name": "stderr",
     "output_type": "stream",
     "text": [
      "C:\\anaconda3\\Lib\\site-packages\\sklearn\\metrics\\_classification.py:1344: UndefinedMetricWarning: Precision and F-score are ill-defined and being set to 0.0 in labels with no predicted samples. Use `zero_division` parameter to control this behavior.\n",
      "  _warn_prf(average, modifier, msg_start, len(result))\n",
      "C:\\anaconda3\\Lib\\site-packages\\sklearn\\metrics\\_classification.py:1344: UndefinedMetricWarning: Precision and F-score are ill-defined and being set to 0.0 in labels with no predicted samples. Use `zero_division` parameter to control this behavior.\n",
      "  _warn_prf(average, modifier, msg_start, len(result))\n",
      "C:\\anaconda3\\Lib\\site-packages\\sklearn\\metrics\\_classification.py:1344: UndefinedMetricWarning: Precision and F-score are ill-defined and being set to 0.0 in labels with no predicted samples. Use `zero_division` parameter to control this behavior.\n",
      "  _warn_prf(average, modifier, msg_start, len(result))\n"
     ]
    }
   ],
   "source": [
    "#4. 모델학습\n",
    "from sklearn.svm import SVC\n",
    "svc = SVC()\n",
    "svc.fit(X_train, y_train)\n",
    "\n",
    "#5. 예측\n",
    "pred2 = svc.predict(X_test)\n",
    "\n",
    "#6. 모델 평가\n",
    "from sklearn.metrics import classification_report\n",
    "print(classification_report(y_test, pred2))"
   ]
  },
  {
   "cell_type": "code",
   "execution_count": null,
   "id": "316211a8-416c-4f2d-a7d7-df0f3be6b26b",
   "metadata": {},
   "outputs": [],
   "source": []
  },
  {
   "cell_type": "code",
   "execution_count": 64,
   "id": "fdf38ade-888d-41f2-a3c1-c737c89b977d",
   "metadata": {},
   "outputs": [],
   "source": [
    "# 6. 모델 검증"
   ]
  },
  {
   "cell_type": "code",
   "execution_count": 67,
   "id": "c42c4951-f3d9-4d2e-a014-d885ccb5df1f",
   "metadata": {},
   "outputs": [],
   "source": [
    "from sklearn.linear_model import LogisticRegression\n",
    "from sklearn.ensemble import RandomForestClassifier\n",
    "from xgboost import XGBClassifier\n",
    "from lightgbm import LGBMClassifier\n",
    "\n",
    "log = LogisticRegression()\n",
    "rf = RandomForestClassifier()\n",
    "xgb = XGBClassifier()\n",
    "lgb = LGBMClassifier(verbose=-1)"
   ]
  },
  {
   "cell_type": "code",
   "execution_count": null,
   "id": "5d86dfc5-847a-46ab-af9f-1f6b90461f83",
   "metadata": {},
   "outputs": [],
   "source": []
  },
  {
   "cell_type": "code",
   "execution_count": 69,
   "id": "09a2394f-e4f9-408c-9e54-e233c3f920c7",
   "metadata": {
    "scrolled": true
   },
   "outputs": [
    {
     "name": "stderr",
     "output_type": "stream",
     "text": [
      "C:\\anaconda3\\Lib\\site-packages\\sklearn\\linear_model\\_logistic.py:458: ConvergenceWarning: lbfgs failed to converge (status=2):\n",
      "ABNORMAL_TERMINATION_IN_LNSRCH.\n",
      "\n",
      "Increase the number of iterations (max_iter) or scale the data as shown in:\n",
      "    https://scikit-learn.org/stable/modules/preprocessing.html\n",
      "Please also refer to the documentation for alternative solver options:\n",
      "    https://scikit-learn.org/stable/modules/linear_model.html#logistic-regression\n",
      "  n_iter_i = _check_optimize_result(\n",
      "C:\\anaconda3\\Lib\\site-packages\\sklearn\\metrics\\_classification.py:1344: UndefinedMetricWarning: Precision and F-score are ill-defined and being set to 0.0 in labels with no predicted samples. Use `zero_division` parameter to control this behavior.\n",
      "  _warn_prf(average, modifier, msg_start, len(result))\n",
      "C:\\anaconda3\\Lib\\site-packages\\sklearn\\metrics\\_classification.py:1344: UndefinedMetricWarning: Precision and F-score are ill-defined and being set to 0.0 in labels with no predicted samples. Use `zero_division` parameter to control this behavior.\n",
      "  _warn_prf(average, modifier, msg_start, len(result))\n",
      "C:\\anaconda3\\Lib\\site-packages\\sklearn\\metrics\\_classification.py:1344: UndefinedMetricWarning: Precision and F-score are ill-defined and being set to 0.0 in labels with no predicted samples. Use `zero_division` parameter to control this behavior.\n",
      "  _warn_prf(average, modifier, msg_start, len(result))\n"
     ]
    },
    {
     "name": "stdout",
     "output_type": "stream",
     "text": [
      "              precision    recall  f1-score   support\n",
      "\n",
      "           0       0.96      1.00      0.98     14628\n",
      "           1       0.00      0.00      0.00       576\n",
      "\n",
      "    accuracy                           0.96     15204\n",
      "   macro avg       0.48      0.50      0.49     15204\n",
      "weighted avg       0.93      0.96      0.94     15204\n",
      "\n",
      "\n",
      "              precision    recall  f1-score   support\n",
      "\n",
      "           0       0.96      0.99      0.98     14628\n",
      "           1       0.15      0.05      0.07       576\n",
      "\n",
      "    accuracy                           0.95     15204\n",
      "   macro avg       0.56      0.52      0.52     15204\n",
      "weighted avg       0.93      0.95      0.94     15204\n",
      "\n",
      "\n",
      "              precision    recall  f1-score   support\n",
      "\n",
      "           0       0.96      1.00      0.98     14628\n",
      "           1       0.30      0.01      0.02       576\n",
      "\n",
      "    accuracy                           0.96     15204\n",
      "   macro avg       0.63      0.51      0.50     15204\n",
      "weighted avg       0.94      0.96      0.94     15204\n",
      "\n",
      "\n",
      "              precision    recall  f1-score   support\n",
      "\n",
      "           0       0.96      1.00      0.98     14628\n",
      "           1       0.33      0.01      0.01       576\n",
      "\n",
      "    accuracy                           0.96     15204\n",
      "   macro avg       0.65      0.50      0.50     15204\n",
      "weighted avg       0.94      0.96      0.94     15204\n",
      "\n",
      "\n"
     ]
    }
   ],
   "source": [
    "alogs = [log, rf, xgb, lgb]\n",
    "\n",
    "for algo in alogs:\n",
    "  algo.fit(X_train, y_train)\n",
    "  y_pred = algo.predict(X_test)\n",
    "  print(classification_report(y_test, y_pred))\n",
    "  print()"
   ]
  },
  {
   "cell_type": "markdown",
   "id": "6858dfa3-cc6d-4489-b793-7a4309d02681",
   "metadata": {},
   "source": [
    "결과분석\n",
    "- 1클래스에 대해서는 학습이 잘 안되어 있음을 볼 수 있다"
   ]
  },
  {
   "cell_type": "code",
   "execution_count": null,
   "id": "758ccefd-47ba-4295-a510-1c8ae858f2c1",
   "metadata": {},
   "outputs": [],
   "source": []
  },
  {
   "cell_type": "code",
   "execution_count": null,
   "id": "5f0bfe64-209b-4203-a9f3-57ee9d572fd2",
   "metadata": {},
   "outputs": [],
   "source": []
  },
  {
   "cell_type": "markdown",
   "id": "275d286f-6c5f-4cc0-9a99-a046633714b1",
   "metadata": {},
   "source": [
    "# outlier제거 > 칼럼간 scale조정 > log scale 변환 > smote"
   ]
  },
  {
   "cell_type": "markdown",
   "id": "a6a70bd9-9fa3-408f-acc9-a6fe2b6322b2",
   "metadata": {},
   "source": [
    "## 1. outlier제거"
   ]
  },
  {
   "cell_type": "code",
   "execution_count": 82,
   "id": "bd256bc4-867c-4d89-b2c0-467becff230f",
   "metadata": {},
   "outputs": [],
   "source": [
    "df = pd.read_csv('C:\\\\Users\\\\M\\\\Machine_L\\\\data\\\\train_santander.csv')"
   ]
  },
  {
   "cell_type": "code",
   "execution_count": 126,
   "id": "7586d63d-c263-4aaf-9e10-e3ca7428438b",
   "metadata": {
    "scrolled": true
   },
   "outputs": [
    {
     "name": "stdout",
     "output_type": "stream",
     "text": [
      "var3\n",
      "var15\n",
      "imp_ent_var16_ult1\n",
      "imp_op_var39_comer_ult1\n",
      "imp_op_var39_comer_ult3\n",
      "imp_op_var40_comer_ult1\n",
      "imp_op_var40_comer_ult3\n",
      "imp_op_var40_efect_ult1\n",
      "imp_op_var40_efect_ult3\n",
      "imp_op_var40_ult1\n",
      "imp_op_var41_comer_ult1\n",
      "imp_op_var41_comer_ult3\n",
      "imp_op_var41_efect_ult1\n",
      "imp_op_var41_efect_ult3\n",
      "imp_op_var41_ult1\n",
      "imp_op_var39_efect_ult1\n",
      "imp_op_var39_efect_ult3\n",
      "imp_op_var39_ult1\n",
      "imp_sal_var16_ult1\n",
      "ind_var1_0\n",
      "ind_var1\n",
      "ind_var2_0\n",
      "ind_var2\n",
      "ind_var5_0\n",
      "ind_var5\n",
      "ind_var6_0\n",
      "ind_var6\n",
      "ind_var8_0\n",
      "ind_var8\n",
      "ind_var12_0\n",
      "ind_var12\n",
      "ind_var13_0\n",
      "ind_var13_corto_0\n",
      "ind_var13_corto\n",
      "ind_var13_largo_0\n",
      "ind_var13_largo\n",
      "ind_var13_medio_0\n",
      "ind_var13_medio\n",
      "ind_var13\n",
      "ind_var14_0\n",
      "ind_var14\n",
      "ind_var17_0\n",
      "ind_var17\n",
      "ind_var18_0\n",
      "ind_var18\n",
      "ind_var19\n",
      "ind_var20_0\n",
      "ind_var20\n",
      "ind_var24_0\n",
      "ind_var24\n",
      "ind_var25_cte\n",
      "ind_var26_0\n",
      "ind_var26_cte\n",
      "ind_var26\n",
      "ind_var25_0\n",
      "ind_var25\n",
      "ind_var27_0\n",
      "ind_var28_0\n",
      "ind_var28\n",
      "ind_var27\n",
      "ind_var29_0\n",
      "ind_var29\n",
      "ind_var30_0\n",
      "ind_var30\n",
      "ind_var31_0\n",
      "ind_var31\n",
      "ind_var32_cte\n",
      "ind_var32_0\n",
      "ind_var32\n",
      "ind_var33_0\n",
      "ind_var33\n",
      "ind_var34_0\n",
      "ind_var34\n",
      "ind_var37_cte\n",
      "ind_var37_0\n",
      "ind_var37\n",
      "ind_var39_0\n",
      "ind_var40_0\n",
      "ind_var40\n",
      "ind_var41_0\n",
      "ind_var41\n",
      "ind_var39\n",
      "ind_var44_0\n",
      "ind_var44\n",
      "ind_var46_0\n",
      "ind_var46\n",
      "num_var1_0\n",
      "num_var1\n",
      "num_var4\n",
      "num_var5_0\n",
      "num_var5\n",
      "num_var6_0\n",
      "num_var6\n",
      "num_var8_0\n",
      "num_var8\n",
      "num_var12_0\n",
      "num_var12\n",
      "num_var13_0\n",
      "num_var13_corto_0\n",
      "num_var13_corto\n",
      "num_var13_largo_0\n",
      "num_var13_largo\n",
      "num_var13_medio_0\n",
      "num_var13_medio\n",
      "num_var13\n",
      "num_var14_0\n",
      "num_var14\n",
      "num_var17_0\n",
      "num_var17\n",
      "num_var18_0\n",
      "num_var18\n",
      "num_var20_0\n",
      "num_var20\n",
      "num_var24_0\n",
      "num_var24\n",
      "num_var26_0\n",
      "num_var26\n",
      "num_var25_0\n",
      "num_var25\n",
      "num_op_var40_hace2\n",
      "num_op_var40_hace3\n",
      "num_op_var40_ult1\n",
      "num_op_var40_ult3\n",
      "num_op_var41_hace2\n",
      "num_op_var41_hace3\n",
      "num_op_var41_ult1\n",
      "num_op_var41_ult3\n",
      "num_op_var39_hace2\n",
      "num_op_var39_hace3\n",
      "num_op_var39_ult1\n",
      "num_op_var39_ult3\n",
      "num_var27_0\n",
      "num_var28_0\n",
      "num_var28\n",
      "num_var27\n",
      "num_var29_0\n",
      "num_var29\n",
      "num_var30_0\n",
      "num_var30\n",
      "num_var31_0\n",
      "num_var31\n",
      "num_var32_0\n",
      "num_var32\n",
      "num_var33_0\n",
      "num_var33\n",
      "num_var34_0\n",
      "num_var34\n",
      "num_var35\n",
      "num_var37_med_ult2\n",
      "num_var37_0\n",
      "num_var37\n",
      "num_var39_0\n",
      "num_var40_0\n",
      "num_var40\n",
      "num_var41_0\n",
      "num_var41\n",
      "num_var39\n",
      "num_var42_0\n",
      "num_var42\n",
      "num_var44_0\n",
      "num_var44\n",
      "num_var46_0\n",
      "num_var46\n",
      "saldo_var1\n",
      "saldo_var5\n",
      "saldo_var6\n",
      "saldo_var8\n",
      "saldo_var12\n",
      "saldo_var13_corto\n",
      "saldo_var13_largo\n",
      "saldo_var13_medio\n",
      "saldo_var13\n",
      "saldo_var14\n",
      "saldo_var17\n",
      "saldo_var18\n",
      "saldo_var20\n",
      "saldo_var24\n",
      "saldo_var26\n",
      "saldo_var25\n",
      "saldo_var28\n",
      "saldo_var27\n",
      "saldo_var29\n",
      "saldo_var30\n",
      "saldo_var31\n",
      "saldo_var32\n",
      "saldo_var33\n",
      "saldo_var34\n",
      "saldo_var37\n",
      "saldo_var40\n",
      "saldo_var41\n",
      "saldo_var42\n",
      "saldo_var44\n",
      "saldo_var46\n",
      "var36\n",
      "delta_imp_amort_var18_1y3\n",
      "delta_imp_amort_var34_1y3\n",
      "delta_imp_aport_var13_1y3\n",
      "delta_imp_aport_var17_1y3\n",
      "delta_imp_aport_var33_1y3\n",
      "delta_imp_compra_var44_1y3\n",
      "delta_imp_reemb_var13_1y3\n",
      "delta_imp_reemb_var17_1y3\n",
      "delta_imp_reemb_var33_1y3\n",
      "delta_imp_trasp_var17_in_1y3\n",
      "delta_imp_trasp_var17_out_1y3\n",
      "delta_imp_trasp_var33_in_1y3\n",
      "delta_imp_trasp_var33_out_1y3\n",
      "delta_imp_venta_var44_1y3\n",
      "delta_num_aport_var13_1y3\n",
      "delta_num_aport_var17_1y3\n",
      "delta_num_aport_var33_1y3\n",
      "delta_num_compra_var44_1y3\n",
      "delta_num_reemb_var13_1y3\n",
      "delta_num_reemb_var17_1y3\n",
      "delta_num_reemb_var33_1y3\n",
      "delta_num_trasp_var17_in_1y3\n",
      "delta_num_trasp_var17_out_1y3\n",
      "delta_num_trasp_var33_in_1y3\n",
      "delta_num_trasp_var33_out_1y3\n",
      "delta_num_venta_var44_1y3\n",
      "imp_amort_var18_hace3\n",
      "imp_amort_var18_ult1\n",
      "imp_amort_var34_hace3\n",
      "imp_amort_var34_ult1\n",
      "imp_aport_var13_hace3\n",
      "imp_aport_var13_ult1\n",
      "imp_aport_var17_hace3\n",
      "imp_aport_var17_ult1\n",
      "imp_aport_var33_hace3\n",
      "imp_aport_var33_ult1\n",
      "imp_var7_emit_ult1\n",
      "imp_var7_recib_ult1\n",
      "imp_compra_var44_hace3\n",
      "imp_compra_var44_ult1\n",
      "imp_reemb_var13_hace3\n",
      "imp_reemb_var13_ult1\n",
      "imp_reemb_var17_hace3\n",
      "imp_reemb_var17_ult1\n",
      "imp_reemb_var33_hace3\n",
      "imp_reemb_var33_ult1\n",
      "imp_var43_emit_ult1\n",
      "imp_trans_var37_ult1\n",
      "imp_trasp_var17_in_hace3\n",
      "imp_trasp_var17_in_ult1\n",
      "imp_trasp_var17_out_hace3\n",
      "imp_trasp_var17_out_ult1\n",
      "imp_trasp_var33_in_hace3\n",
      "imp_trasp_var33_in_ult1\n",
      "imp_trasp_var33_out_hace3\n",
      "imp_trasp_var33_out_ult1\n",
      "imp_venta_var44_hace3\n",
      "imp_venta_var44_ult1\n",
      "ind_var7_emit_ult1\n",
      "ind_var7_recib_ult1\n",
      "ind_var10_ult1\n",
      "ind_var10cte_ult1\n",
      "ind_var9_cte_ult1\n",
      "ind_var9_ult1\n",
      "ind_var43_emit_ult1\n",
      "ind_var43_recib_ult1\n",
      "var21\n",
      "num_var2_0_ult1\n",
      "num_var2_ult1\n",
      "num_aport_var13_hace3\n",
      "num_aport_var13_ult1\n",
      "num_aport_var17_hace3\n",
      "num_aport_var17_ult1\n",
      "num_aport_var33_hace3\n",
      "num_aport_var33_ult1\n",
      "num_var7_emit_ult1\n",
      "num_var7_recib_ult1\n",
      "num_compra_var44_hace3\n",
      "num_compra_var44_ult1\n",
      "num_ent_var16_ult1\n",
      "num_var22_hace2\n",
      "num_var22_hace3\n",
      "num_var22_ult1\n",
      "num_var22_ult3\n",
      "num_med_var22_ult3\n",
      "num_med_var45_ult3\n",
      "num_meses_var5_ult3\n",
      "num_meses_var8_ult3\n",
      "num_meses_var12_ult3\n",
      "num_meses_var13_corto_ult3\n",
      "num_meses_var13_largo_ult3\n",
      "num_meses_var13_medio_ult3\n",
      "num_meses_var17_ult3\n",
      "num_meses_var29_ult3\n",
      "num_meses_var33_ult3\n",
      "num_meses_var39_vig_ult3\n",
      "num_meses_var44_ult3\n",
      "num_op_var39_comer_ult1\n",
      "num_op_var39_comer_ult3\n",
      "num_op_var40_comer_ult1\n",
      "num_op_var40_comer_ult3\n",
      "num_op_var40_efect_ult1\n",
      "num_op_var40_efect_ult3\n",
      "num_op_var41_comer_ult1\n",
      "num_op_var41_comer_ult3\n",
      "num_op_var41_efect_ult1\n",
      "num_op_var41_efect_ult3\n",
      "num_op_var39_efect_ult1\n",
      "num_op_var39_efect_ult3\n",
      "num_reemb_var13_hace3\n",
      "num_reemb_var13_ult1\n",
      "num_reemb_var17_hace3\n",
      "num_reemb_var17_ult1\n",
      "num_reemb_var33_hace3\n",
      "num_reemb_var33_ult1\n",
      "num_sal_var16_ult1\n",
      "num_var43_emit_ult1\n",
      "num_var43_recib_ult1\n",
      "num_trasp_var11_ult1\n",
      "num_trasp_var17_in_hace3\n",
      "num_trasp_var17_in_ult1\n",
      "num_trasp_var17_out_hace3\n",
      "num_trasp_var17_out_ult1\n",
      "num_trasp_var33_in_hace3\n",
      "num_trasp_var33_in_ult1\n",
      "num_trasp_var33_out_hace3\n",
      "num_trasp_var33_out_ult1\n",
      "num_venta_var44_hace3\n",
      "num_venta_var44_ult1\n",
      "num_var45_hace2\n",
      "num_var45_hace3\n",
      "num_var45_ult1\n",
      "num_var45_ult3\n",
      "saldo_var2_ult1\n",
      "saldo_medio_var5_hace2\n",
      "saldo_medio_var5_hace3\n",
      "saldo_medio_var5_ult1\n",
      "saldo_medio_var5_ult3\n",
      "saldo_medio_var8_hace2\n",
      "saldo_medio_var8_hace3\n",
      "saldo_medio_var8_ult1\n",
      "saldo_medio_var8_ult3\n",
      "saldo_medio_var12_hace2\n",
      "saldo_medio_var12_hace3\n",
      "saldo_medio_var12_ult1\n",
      "saldo_medio_var12_ult3\n",
      "saldo_medio_var13_corto_hace2\n",
      "saldo_medio_var13_corto_hace3\n",
      "saldo_medio_var13_corto_ult1\n",
      "saldo_medio_var13_corto_ult3\n",
      "saldo_medio_var13_largo_hace2\n",
      "saldo_medio_var13_largo_hace3\n",
      "saldo_medio_var13_largo_ult1\n",
      "saldo_medio_var13_largo_ult3\n",
      "saldo_medio_var13_medio_hace2\n",
      "saldo_medio_var13_medio_hace3\n",
      "saldo_medio_var13_medio_ult1\n",
      "saldo_medio_var13_medio_ult3\n",
      "saldo_medio_var17_hace2\n",
      "saldo_medio_var17_hace3\n",
      "saldo_medio_var17_ult1\n",
      "saldo_medio_var17_ult3\n",
      "saldo_medio_var29_hace2\n",
      "saldo_medio_var29_hace3\n",
      "saldo_medio_var29_ult1\n",
      "saldo_medio_var29_ult3\n",
      "saldo_medio_var33_hace2\n",
      "saldo_medio_var33_hace3\n",
      "saldo_medio_var33_ult1\n",
      "saldo_medio_var33_ult3\n",
      "saldo_medio_var44_hace2\n",
      "saldo_medio_var44_hace3\n",
      "saldo_medio_var44_ult1\n",
      "saldo_medio_var44_ult3\n",
      "var38\n"
     ]
    }
   ],
   "source": [
    "# 이상치 판단\n",
    "for col in df.columns[1:-1]: #id컬럼 빼기 위한 조건 [1:-1]\n",
    "    print(col)\n",
    "    \n",
    "    q1 = df[col].quantile(0.25)\n",
    "    q3 = df[col].quantile(0.75)\n",
    "    iqr = q3 - q1\n",
    "\n",
    "    upper_limit = q3 + iqr*1.5  #상한\n",
    "    lower_limit = q1 - iqr*1.5 #하한\n",
    "\n",
    "    outlier_data = df[col][(df[col] > upper_limit) | (df[col]  < lower_limit)] #이상치에 해당하는 row\n",
    "    outlier_idx = outlier_data.index #이상치에 해당하는 row index\n",
    "    df.drop(list(outlier_idx), inplace = True)"
   ]
  },
  {
   "cell_type": "code",
   "execution_count": 127,
   "id": "07ebd8f2-107f-413b-8ab4-655ace110e2f",
   "metadata": {},
   "outputs": [
    {
     "name": "stdout",
     "output_type": "stream",
     "text": [
      "<class 'pandas.core.frame.DataFrame'>\n",
      "Index: 18033 entries, 0 to 76019\n",
      "Columns: 371 entries, ID to TARGET\n",
      "dtypes: float64(111), int64(260)\n",
      "memory usage: 51.2 MB\n"
     ]
    }
   ],
   "source": [
    "df.info()"
   ]
  },
  {
   "cell_type": "code",
   "execution_count": 77,
   "id": "f167f0b0-fd93-4404-b1a5-01aabd70e2a7",
   "metadata": {},
   "outputs": [
    {
     "name": "stdout",
     "output_type": "stream",
     "text": [
      "<class 'pandas.core.frame.DataFrame'>\n",
      "Index: 18413 entries, 0 to 76019\n",
      "Columns: 371 entries, ID to TARGET\n",
      "dtypes: float64(111), int64(260)\n",
      "memory usage: 52.3 MB\n"
     ]
    }
   ],
   "source": [
    "df.info()"
   ]
  },
  {
   "cell_type": "code",
   "execution_count": 78,
   "id": "3151ce28-8b11-4f06-adc6-5e9e15722bee",
   "metadata": {},
   "outputs": [
    {
     "data": {
      "text/plain": [
       "TARGET\n",
       "0    17504\n",
       "1      909\n",
       "Name: count, dtype: int64"
      ]
     },
     "execution_count": 78,
     "metadata": {},
     "output_type": "execute_result"
    }
   ],
   "source": [
    "df.TARGET.value_counts()"
   ]
  },
  {
   "cell_type": "markdown",
   "id": "6f6f6347-45a1-45c8-9cc5-98a33f2cc3cc",
   "metadata": {},
   "source": [
    "## 2. 칼럼간 scale조정\n",
    "- 스케일링 종류\n",
    "- StandardScaler\n",
    "- MinMaxScaler\n",
    "- RobustScaler : 이상치 제거와 비슷하다. 극단적 값을 줄이거나 늘려줌"
   ]
  },
  {
   "cell_type": "code",
   "execution_count": 85,
   "id": "d4913b02-47af-431c-8ab5-1280a767192f",
   "metadata": {},
   "outputs": [],
   "source": [
    "y = df.TARGET\n",
    "X = df.drop(columns = ['TARGET', 'ID'])"
   ]
  },
  {
   "cell_type": "code",
   "execution_count": 94,
   "id": "d9e40c8f-34c2-494c-8b82-0281f8db8c8c",
   "metadata": {},
   "outputs": [],
   "source": [
    "from sklearn.preprocessing import StandardScaler, MinMaxScaler, RobustScaler\n",
    "scaler = RobustScaler()\n",
    "X_sc = scaler.fit_transform(X)"
   ]
  },
  {
   "cell_type": "code",
   "execution_count": 95,
   "id": "320f6843-edd3-4b57-98bf-6bf3bcf93070",
   "metadata": {},
   "outputs": [
    {
     "data": {
      "text/plain": [
       "array([[ 0.        , -0.23076923,  0.        , ...,  0.        ,\n",
       "         0.        , -1.08564048],\n",
       "       [ 0.        ,  0.61538462,  0.        , ...,  0.        ,\n",
       "         0.        , -0.89595868],\n",
       "       [ 0.        , -0.23076923,  0.        , ...,  0.        ,\n",
       "         0.        , -0.55595146],\n",
       "       ...,\n",
       "       [ 0.        , -0.23076923,  0.        , ...,  0.        ,\n",
       "         0.        , -0.42988974],\n",
       "       [ 0.        , -0.07692308,  0.        , ...,  0.        ,\n",
       "         0.        , -0.23687204],\n",
       "       [ 0.        ,  1.53846154,  0.        , ...,  0.        ,\n",
       "         0.        ,  0.38516822]])"
      ]
     },
     "execution_count": 95,
     "metadata": {},
     "output_type": "execute_result"
    }
   ],
   "source": [
    "X_sc"
   ]
  },
  {
   "cell_type": "code",
   "execution_count": 96,
   "id": "cad8a86a-4e22-45f3-9f74-0240c09c42f7",
   "metadata": {},
   "outputs": [
    {
     "data": {
      "text/html": [
       "<div>\n",
       "<style scoped>\n",
       "    .dataframe tbody tr th:only-of-type {\n",
       "        vertical-align: middle;\n",
       "    }\n",
       "\n",
       "    .dataframe tbody tr th {\n",
       "        vertical-align: top;\n",
       "    }\n",
       "\n",
       "    .dataframe thead th {\n",
       "        text-align: right;\n",
       "    }\n",
       "</style>\n",
       "<table border=\"1\" class=\"dataframe\">\n",
       "  <thead>\n",
       "    <tr style=\"text-align: right;\">\n",
       "      <th></th>\n",
       "      <th>var3</th>\n",
       "      <th>var15</th>\n",
       "      <th>imp_ent_var16_ult1</th>\n",
       "      <th>imp_op_var39_comer_ult1</th>\n",
       "      <th>imp_op_var39_comer_ult3</th>\n",
       "      <th>imp_op_var40_comer_ult1</th>\n",
       "      <th>imp_op_var40_comer_ult3</th>\n",
       "      <th>imp_op_var40_efect_ult1</th>\n",
       "      <th>imp_op_var40_efect_ult3</th>\n",
       "      <th>imp_op_var40_ult1</th>\n",
       "      <th>...</th>\n",
       "      <th>saldo_medio_var29_ult3</th>\n",
       "      <th>saldo_medio_var33_hace2</th>\n",
       "      <th>saldo_medio_var33_hace3</th>\n",
       "      <th>saldo_medio_var33_ult1</th>\n",
       "      <th>saldo_medio_var33_ult3</th>\n",
       "      <th>saldo_medio_var44_hace2</th>\n",
       "      <th>saldo_medio_var44_hace3</th>\n",
       "      <th>saldo_medio_var44_ult1</th>\n",
       "      <th>saldo_medio_var44_ult3</th>\n",
       "      <th>var38</th>\n",
       "    </tr>\n",
       "  </thead>\n",
       "  <tbody>\n",
       "    <tr>\n",
       "      <th>0</th>\n",
       "      <td>0.0</td>\n",
       "      <td>-0.230769</td>\n",
       "      <td>0.0</td>\n",
       "      <td>0.0</td>\n",
       "      <td>0.0</td>\n",
       "      <td>0.0</td>\n",
       "      <td>0.0</td>\n",
       "      <td>0.0</td>\n",
       "      <td>0.0</td>\n",
       "      <td>0.0</td>\n",
       "      <td>...</td>\n",
       "      <td>0.0</td>\n",
       "      <td>0.0</td>\n",
       "      <td>0.0</td>\n",
       "      <td>0.0</td>\n",
       "      <td>0.0</td>\n",
       "      <td>0.0</td>\n",
       "      <td>0.0</td>\n",
       "      <td>0.0</td>\n",
       "      <td>0.0</td>\n",
       "      <td>-1.085640</td>\n",
       "    </tr>\n",
       "    <tr>\n",
       "      <th>1</th>\n",
       "      <td>0.0</td>\n",
       "      <td>0.615385</td>\n",
       "      <td>0.0</td>\n",
       "      <td>0.0</td>\n",
       "      <td>0.0</td>\n",
       "      <td>0.0</td>\n",
       "      <td>0.0</td>\n",
       "      <td>0.0</td>\n",
       "      <td>0.0</td>\n",
       "      <td>0.0</td>\n",
       "      <td>...</td>\n",
       "      <td>0.0</td>\n",
       "      <td>0.0</td>\n",
       "      <td>0.0</td>\n",
       "      <td>0.0</td>\n",
       "      <td>0.0</td>\n",
       "      <td>0.0</td>\n",
       "      <td>0.0</td>\n",
       "      <td>0.0</td>\n",
       "      <td>0.0</td>\n",
       "      <td>-0.895959</td>\n",
       "    </tr>\n",
       "    <tr>\n",
       "      <th>2</th>\n",
       "      <td>0.0</td>\n",
       "      <td>-0.230769</td>\n",
       "      <td>0.0</td>\n",
       "      <td>0.0</td>\n",
       "      <td>0.0</td>\n",
       "      <td>0.0</td>\n",
       "      <td>0.0</td>\n",
       "      <td>0.0</td>\n",
       "      <td>0.0</td>\n",
       "      <td>0.0</td>\n",
       "      <td>...</td>\n",
       "      <td>0.0</td>\n",
       "      <td>0.0</td>\n",
       "      <td>0.0</td>\n",
       "      <td>0.0</td>\n",
       "      <td>0.0</td>\n",
       "      <td>0.0</td>\n",
       "      <td>0.0</td>\n",
       "      <td>0.0</td>\n",
       "      <td>0.0</td>\n",
       "      <td>-0.555951</td>\n",
       "    </tr>\n",
       "    <tr>\n",
       "      <th>3</th>\n",
       "      <td>0.0</td>\n",
       "      <td>0.846154</td>\n",
       "      <td>0.0</td>\n",
       "      <td>195.0</td>\n",
       "      <td>195.0</td>\n",
       "      <td>0.0</td>\n",
       "      <td>0.0</td>\n",
       "      <td>0.0</td>\n",
       "      <td>0.0</td>\n",
       "      <td>0.0</td>\n",
       "      <td>...</td>\n",
       "      <td>0.0</td>\n",
       "      <td>0.0</td>\n",
       "      <td>0.0</td>\n",
       "      <td>0.0</td>\n",
       "      <td>0.0</td>\n",
       "      <td>0.0</td>\n",
       "      <td>0.0</td>\n",
       "      <td>0.0</td>\n",
       "      <td>0.0</td>\n",
       "      <td>-0.618580</td>\n",
       "    </tr>\n",
       "    <tr>\n",
       "      <th>4</th>\n",
       "      <td>0.0</td>\n",
       "      <td>-0.230769</td>\n",
       "      <td>0.0</td>\n",
       "      <td>0.0</td>\n",
       "      <td>0.0</td>\n",
       "      <td>0.0</td>\n",
       "      <td>0.0</td>\n",
       "      <td>0.0</td>\n",
       "      <td>0.0</td>\n",
       "      <td>0.0</td>\n",
       "      <td>...</td>\n",
       "      <td>0.0</td>\n",
       "      <td>0.0</td>\n",
       "      <td>0.0</td>\n",
       "      <td>0.0</td>\n",
       "      <td>0.0</td>\n",
       "      <td>0.0</td>\n",
       "      <td>0.0</td>\n",
       "      <td>0.0</td>\n",
       "      <td>0.0</td>\n",
       "      <td>-0.167243</td>\n",
       "    </tr>\n",
       "  </tbody>\n",
       "</table>\n",
       "<p>5 rows × 369 columns</p>\n",
       "</div>"
      ],
      "text/plain": [
       "   var3     var15  imp_ent_var16_ult1  imp_op_var39_comer_ult1  \\\n",
       "0   0.0 -0.230769                 0.0                      0.0   \n",
       "1   0.0  0.615385                 0.0                      0.0   \n",
       "2   0.0 -0.230769                 0.0                      0.0   \n",
       "3   0.0  0.846154                 0.0                    195.0   \n",
       "4   0.0 -0.230769                 0.0                      0.0   \n",
       "\n",
       "   imp_op_var39_comer_ult3  imp_op_var40_comer_ult1  imp_op_var40_comer_ult3  \\\n",
       "0                      0.0                      0.0                      0.0   \n",
       "1                      0.0                      0.0                      0.0   \n",
       "2                      0.0                      0.0                      0.0   \n",
       "3                    195.0                      0.0                      0.0   \n",
       "4                      0.0                      0.0                      0.0   \n",
       "\n",
       "   imp_op_var40_efect_ult1  imp_op_var40_efect_ult3  imp_op_var40_ult1  ...  \\\n",
       "0                      0.0                      0.0                0.0  ...   \n",
       "1                      0.0                      0.0                0.0  ...   \n",
       "2                      0.0                      0.0                0.0  ...   \n",
       "3                      0.0                      0.0                0.0  ...   \n",
       "4                      0.0                      0.0                0.0  ...   \n",
       "\n",
       "   saldo_medio_var29_ult3  saldo_medio_var33_hace2  saldo_medio_var33_hace3  \\\n",
       "0                     0.0                      0.0                      0.0   \n",
       "1                     0.0                      0.0                      0.0   \n",
       "2                     0.0                      0.0                      0.0   \n",
       "3                     0.0                      0.0                      0.0   \n",
       "4                     0.0                      0.0                      0.0   \n",
       "\n",
       "   saldo_medio_var33_ult1  saldo_medio_var33_ult3  saldo_medio_var44_hace2  \\\n",
       "0                     0.0                     0.0                      0.0   \n",
       "1                     0.0                     0.0                      0.0   \n",
       "2                     0.0                     0.0                      0.0   \n",
       "3                     0.0                     0.0                      0.0   \n",
       "4                     0.0                     0.0                      0.0   \n",
       "\n",
       "   saldo_medio_var44_hace3  saldo_medio_var44_ult1  saldo_medio_var44_ult3  \\\n",
       "0                      0.0                     0.0                     0.0   \n",
       "1                      0.0                     0.0                     0.0   \n",
       "2                      0.0                     0.0                     0.0   \n",
       "3                      0.0                     0.0                     0.0   \n",
       "4                      0.0                     0.0                     0.0   \n",
       "\n",
       "      var38  \n",
       "0 -1.085640  \n",
       "1 -0.895959  \n",
       "2 -0.555951  \n",
       "3 -0.618580  \n",
       "4 -0.167243  \n",
       "\n",
       "[5 rows x 369 columns]"
      ]
     },
     "execution_count": 96,
     "metadata": {},
     "output_type": "execute_result"
    }
   ],
   "source": [
    "X_sc = pd.DataFrame(X_sc, columns=X.columns)\n",
    "X_sc.head()"
   ]
  },
  {
   "cell_type": "code",
   "execution_count": null,
   "id": "39ae4ac5-daf5-4125-b9db-a4a7a577ef45",
   "metadata": {},
   "outputs": [],
   "source": []
  },
  {
   "cell_type": "markdown",
   "id": "00c98d96-2a27-437a-aef1-53f4c8374faa",
   "metadata": {},
   "source": [
    "## 3. 로그 스케일 조정\n",
    "- log : 큰 값이 줄어든다. 한 쪽으로 쏠린 값을 평균으로 모이도록 한다. => 정규분포에 가깝게 변형\n",
    "- skew : 분포의 쏠림 정도를 나타내는 지표"
   ]
  },
  {
   "cell_type": "code",
   "execution_count": 101,
   "id": "bc117e06-b6d9-4e70-8076-93e8b35a913e",
   "metadata": {},
   "outputs": [],
   "source": [
    "from scipy.stats import skew\n",
    "\n",
    "skewed_cols = pd.Series(skew(X_sc), index=X_sc.columns).head(9).index\n",
    "#X_sc에서 skew값이 큰 상위 9개 컬럼"
   ]
  },
  {
   "cell_type": "code",
   "execution_count": 102,
   "id": "d759201e-e0c2-49e3-8e42-ceb9d71f99fc",
   "metadata": {},
   "outputs": [
    {
     "name": "stderr",
     "output_type": "stream",
     "text": [
      "C:\\anaconda3\\Lib\\site-packages\\pandas\\core\\internals\\blocks.py:366: RuntimeWarning: divide by zero encountered in log1p\n",
      "  result = func(self.values, **kwargs)\n",
      "C:\\anaconda3\\Lib\\site-packages\\pandas\\core\\internals\\blocks.py:366: RuntimeWarning: invalid value encountered in log1p\n",
      "  result = func(self.values, **kwargs)\n"
     ]
    }
   ],
   "source": [
    "X_sc[skewed_cols] = np.log1p(X_sc[skewed_cols])\n",
    "#skew값이 큰 컬럼의 값들을 log scale 변환"
   ]
  },
  {
   "cell_type": "code",
   "execution_count": null,
   "id": "78fc87b4-075c-4eaf-bb4f-bd71103581ef",
   "metadata": {},
   "outputs": [],
   "source": []
  },
  {
   "cell_type": "markdown",
   "id": "d56b8376-5bf6-4e21-9438-f2fc6bf0556a",
   "metadata": {},
   "source": [
    "<hr> 전처리 완료 <hr>"
   ]
  },
  {
   "cell_type": "code",
   "execution_count": 103,
   "id": "01691553-8746-4d94-9cb3-f3d55a277687",
   "metadata": {},
   "outputs": [],
   "source": [
    "#이제 다시 split 해서 평가 해보기"
   ]
  },
  {
   "cell_type": "code",
   "execution_count": 104,
   "id": "22fc9340-a8df-4ee6-b40c-507c3a8f5054",
   "metadata": {},
   "outputs": [],
   "source": [
    "from sklearn.model_selection import train_test_split\n",
    "X_train, X_test, y_train, y_test = train_test_split(X, y, test_size = 0.25, random_state = 2024)"
   ]
  },
  {
   "cell_type": "code",
   "execution_count": 108,
   "id": "5ccad8a7-fd73-46b9-8000-da81d58ece1e",
   "metadata": {},
   "outputs": [
    {
     "name": "stdout",
     "output_type": "stream",
     "text": [
      "(47073, 369)\n",
      "(15692, 369)\n",
      "(47073,)\n",
      "(15692,)\n"
     ]
    }
   ],
   "source": [
    "print(X_train.shape)\n",
    "print(X_test.shape)\n",
    "print(y_train.shape)\n",
    "print(y_test.shape)"
   ]
  },
  {
   "cell_type": "code",
   "execution_count": 105,
   "id": "6c9be196-df46-4b5a-8b48-ee493c557e6d",
   "metadata": {},
   "outputs": [],
   "source": [
    "from sklearn.linear_model import LogisticRegression\n",
    "from sklearn.ensemble import RandomForestClassifier\n",
    "from xgboost import XGBClassifier\n",
    "from lightgbm import LGBMClassifier\n",
    "\n",
    "log = LogisticRegression()\n",
    "rf = RandomForestClassifier()\n",
    "xgb = XGBClassifier()\n",
    "lgb = LGBMClassifier(verbose=-1)"
   ]
  },
  {
   "cell_type": "code",
   "execution_count": 106,
   "id": "395a17c6-ce2d-4090-8285-ccf49d1a382a",
   "metadata": {},
   "outputs": [
    {
     "name": "stderr",
     "output_type": "stream",
     "text": [
      "C:\\anaconda3\\Lib\\site-packages\\sklearn\\linear_model\\_logistic.py:458: ConvergenceWarning: lbfgs failed to converge (status=1):\n",
      "STOP: TOTAL NO. of ITERATIONS REACHED LIMIT.\n",
      "\n",
      "Increase the number of iterations (max_iter) or scale the data as shown in:\n",
      "    https://scikit-learn.org/stable/modules/preprocessing.html\n",
      "Please also refer to the documentation for alternative solver options:\n",
      "    https://scikit-learn.org/stable/modules/linear_model.html#logistic-regression\n",
      "  n_iter_i = _check_optimize_result(\n"
     ]
    },
    {
     "name": "stdout",
     "output_type": "stream",
     "text": [
      "              precision    recall  f1-score   support\n",
      "\n",
      "           0       0.95      1.00      0.98     14971\n",
      "           1       0.00      0.00      0.00       721\n",
      "\n",
      "    accuracy                           0.95     15692\n",
      "   macro avg       0.48      0.50      0.49     15692\n",
      "weighted avg       0.91      0.95      0.93     15692\n",
      "\n",
      "\n",
      "              precision    recall  f1-score   support\n",
      "\n",
      "           0       0.96      0.99      0.97     14971\n",
      "           1       0.16      0.05      0.07       721\n",
      "\n",
      "    accuracy                           0.94     15692\n",
      "   macro avg       0.56      0.52      0.52     15692\n",
      "weighted avg       0.92      0.94      0.93     15692\n",
      "\n",
      "\n",
      "              precision    recall  f1-score   support\n",
      "\n",
      "           0       0.95      1.00      0.98     14971\n",
      "           1       0.35      0.01      0.02       721\n",
      "\n",
      "    accuracy                           0.95     15692\n",
      "   macro avg       0.65      0.51      0.50     15692\n",
      "weighted avg       0.93      0.95      0.93     15692\n",
      "\n",
      "\n",
      "              precision    recall  f1-score   support\n",
      "\n",
      "           0       0.95      1.00      0.98     14971\n",
      "           1       0.43      0.01      0.02       721\n",
      "\n",
      "    accuracy                           0.95     15692\n",
      "   macro avg       0.69      0.50      0.50     15692\n",
      "weighted avg       0.93      0.95      0.93     15692\n",
      "\n",
      "\n"
     ]
    }
   ],
   "source": [
    "alogs = [log, rf, xgb, lgb]\n",
    "\n",
    "for algo in alogs:\n",
    "  algo.fit(X_train, y_train)\n",
    "  y_pred = algo.predict(X_test)\n",
    "  print(classification_report(y_test, y_pred))\n",
    "  print()"
   ]
  },
  {
   "cell_type": "code",
   "execution_count": 121,
   "id": "276b0c3c-3256-452f-bbb3-5dcdaf9ba788",
   "metadata": {},
   "outputs": [
    {
     "name": "stderr",
     "output_type": "stream",
     "text": [
      "C:\\Users\\M\\AppData\\Local\\Temp\\ipykernel_7364\\1754423372.py:3: FutureWarning: DataFrame.applymap has been deprecated. Use DataFrame.map instead.\n",
      "  inf_cols = X_train_rm.applymap(np.isinf).sum().sort_values(ascending=False).head(5).index\n"
     ]
    }
   ],
   "source": [
    "X_train_rm = X_train.drop('var38', axis=1)\n",
    "X_test_rm = X_test.drop('var38', axis=1)\n",
    "inf_cols = X_train_rm.applymap(np.isinf).sum().sort_values(ascending=False).head(5).index\n",
    "X_train_rm_noinf = X_train_rm.drop(inf_cols, axis=1)\n",
    "X_test_rm_noinf =X_test_rm.drop(inf_cols, axis=1)"
   ]
  },
  {
   "cell_type": "code",
   "execution_count": null,
   "id": "03120df4-ed43-4af7-83b7-561fa9c78b8c",
   "metadata": {},
   "outputs": [],
   "source": []
  },
  {
   "cell_type": "markdown",
   "id": "a98ee138-e35a-4d4a-bbe0-854745abac79",
   "metadata": {},
   "source": [
    "## imabalanced dataset"
   ]
  },
  {
   "cell_type": "code",
   "execution_count": 111,
   "id": "ced3b454-9390-45c4-8eff-85b69cf41e7f",
   "metadata": {
    "scrolled": true
   },
   "outputs": [
    {
     "name": "stdout",
     "output_type": "stream",
     "text": [
      "Defaulting to user installation because normal site-packages is not writeable\n",
      "Collecting imblearn\n",
      "  Downloading imblearn-0.0-py2.py3-none-any.whl.metadata (355 bytes)\n",
      "Requirement already satisfied: imbalanced-learn in c:\\anaconda3\\lib\\site-packages (from imblearn) (0.11.0)\n",
      "Requirement already satisfied: numpy>=1.17.3 in c:\\anaconda3\\lib\\site-packages (from imbalanced-learn->imblearn) (1.26.4)\n",
      "Requirement already satisfied: scipy>=1.5.0 in c:\\anaconda3\\lib\\site-packages (from imbalanced-learn->imblearn) (1.11.4)\n",
      "Requirement already satisfied: scikit-learn>=1.0.2 in c:\\anaconda3\\lib\\site-packages (from imbalanced-learn->imblearn) (1.2.2)\n",
      "Requirement already satisfied: joblib>=1.1.1 in c:\\users\\m\\appdata\\roaming\\python\\python311\\site-packages (from imbalanced-learn->imblearn) (1.1.1)\n",
      "Requirement already satisfied: threadpoolctl>=2.0.0 in c:\\anaconda3\\lib\\site-packages (from imbalanced-learn->imblearn) (2.2.0)\n",
      "Downloading imblearn-0.0-py2.py3-none-any.whl (1.9 kB)\n",
      "Installing collected packages: imblearn\n",
      "Successfully installed imblearn-0.0\n"
     ]
    }
   ],
   "source": [
    "!pip install imblearn"
   ]
  },
  {
   "cell_type": "code",
   "execution_count": 113,
   "id": "0e49f0ef-7571-4bd3-af85-94a54cffaaea",
   "metadata": {},
   "outputs": [],
   "source": [
    "import imblearn\n",
    "from imblearn.over_sampling import SMOTE"
   ]
  },
  {
   "cell_type": "code",
   "execution_count": 114,
   "id": "0fa60fb4-fca3-42bb-beea-3302666bffc9",
   "metadata": {},
   "outputs": [
    {
     "data": {
      "text/plain": [
       "TARGET\n",
       "0    44993\n",
       "1     2080\n",
       "Name: count, dtype: int64"
      ]
     },
     "execution_count": 114,
     "metadata": {},
     "output_type": "execute_result"
    }
   ],
   "source": [
    "y_train.value_counts()"
   ]
  },
  {
   "cell_type": "code",
   "execution_count": 115,
   "id": "1195ce4c-1499-4a48-967f-d91832732819",
   "metadata": {},
   "outputs": [],
   "source": [
    "# 0번 클래스에 비해 1번 클래스가 압도적으로 수가 적어서 증폭시켜줘야 한다."
   ]
  },
  {
   "cell_type": "code",
   "execution_count": 122,
   "id": "9a7d9dd8-71f2-4c37-9d49-84368b264e17",
   "metadata": {},
   "outputs": [],
   "source": [
    "smote = SMOTE(random_state=11)\n",
    "X_train_sm, y_train_sm = smote.fit_resample(X_train_rm_noinf, y_train)"
   ]
  },
  {
   "cell_type": "code",
   "execution_count": 123,
   "id": "8d84587e-635d-45a1-becc-7035c90fbf9b",
   "metadata": {},
   "outputs": [
    {
     "data": {
      "text/plain": [
       "TARGET\n",
       "0    44993\n",
       "1    44993\n",
       "Name: count, dtype: int64"
      ]
     },
     "execution_count": 123,
     "metadata": {},
     "output_type": "execute_result"
    }
   ],
   "source": [
    "y_train_sm.value_counts() #1번 클래스 증폭 완료"
   ]
  },
  {
   "cell_type": "code",
   "execution_count": 125,
   "id": "3d13e1a0-42e6-4072-bee4-ed37dc55d2f1",
   "metadata": {},
   "outputs": [
    {
     "name": "stderr",
     "output_type": "stream",
     "text": [
      "C:\\anaconda3\\Lib\\site-packages\\sklearn\\linear_model\\_logistic.py:458: ConvergenceWarning: lbfgs failed to converge (status=1):\n",
      "STOP: TOTAL NO. of ITERATIONS REACHED LIMIT.\n",
      "\n",
      "Increase the number of iterations (max_iter) or scale the data as shown in:\n",
      "    https://scikit-learn.org/stable/modules/preprocessing.html\n",
      "Please also refer to the documentation for alternative solver options:\n",
      "    https://scikit-learn.org/stable/modules/linear_model.html#logistic-regression\n",
      "  n_iter_i = _check_optimize_result(\n"
     ]
    },
    {
     "name": "stdout",
     "output_type": "stream",
     "text": [
      "              precision    recall  f1-score   support\n",
      "\n",
      "           0       0.98      0.68      0.80     14971\n",
      "           1       0.10      0.73      0.17       721\n",
      "\n",
      "    accuracy                           0.68     15692\n",
      "   macro avg       0.54      0.70      0.49     15692\n",
      "weighted avg       0.94      0.68      0.77     15692\n",
      "\n",
      "\n",
      "              precision    recall  f1-score   support\n",
      "\n",
      "           0       0.97      0.88      0.93     14971\n",
      "           1       0.16      0.46      0.24       721\n",
      "\n",
      "    accuracy                           0.86     15692\n",
      "   macro avg       0.57      0.67      0.58     15692\n",
      "weighted avg       0.93      0.86      0.89     15692\n",
      "\n",
      "\n",
      "              precision    recall  f1-score   support\n",
      "\n",
      "           0       0.97      0.88      0.92     14971\n",
      "           1       0.17      0.50      0.25       721\n",
      "\n",
      "    accuracy                           0.86     15692\n",
      "   macro avg       0.57      0.69      0.59     15692\n",
      "weighted avg       0.94      0.86      0.89     15692\n",
      "\n",
      "\n",
      "              precision    recall  f1-score   support\n",
      "\n",
      "           0       0.97      0.87      0.92     14971\n",
      "           1       0.17      0.53      0.25       721\n",
      "\n",
      "    accuracy                           0.86     15692\n",
      "   macro avg       0.57      0.70      0.59     15692\n",
      "weighted avg       0.94      0.86      0.89     15692\n",
      "\n",
      "\n"
     ]
    }
   ],
   "source": [
    "alogs = [log, rf, xgb, lgb]\n",
    "\n",
    "for algo in alogs:\n",
    "  algo.fit(X_train_sm, y_train_sm)\n",
    "  y_pred = algo.predict(X_test_rm_noinf)\n",
    "  print(classification_report(y_test, y_pred))\n",
    "  print()"
   ]
  },
  {
   "cell_type": "code",
   "execution_count": null,
   "id": "670cd60b-3b2b-4e96-a86e-24997b3a9607",
   "metadata": {},
   "outputs": [],
   "source": []
  }
 ],
 "metadata": {
  "kernelspec": {
   "display_name": "Python 3 (ipykernel)",
   "language": "python",
   "name": "python3"
  },
  "language_info": {
   "codemirror_mode": {
    "name": "ipython",
    "version": 3
   },
   "file_extension": ".py",
   "mimetype": "text/x-python",
   "name": "python",
   "nbconvert_exporter": "python",
   "pygments_lexer": "ipython3",
   "version": "3.11.7"
  }
 },
 "nbformat": 4,
 "nbformat_minor": 5
}
